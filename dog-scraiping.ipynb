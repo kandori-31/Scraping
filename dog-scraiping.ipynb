{
 "cells": [
  {
   "cell_type": "code",
   "execution_count": 1,
   "metadata": {},
   "outputs": [
    {
     "output_type": "error",
     "ename": "Error",
     "evalue": "Jupyter cannot be started. Error attempting to locate jupyter: Data Science libraries jupyter and notebook are not installed in interpreter Python 3.7.6 64-bit ('3.7.6': pyenv).",
     "traceback": [
      "Error: Jupyter cannot be started. Error attempting to locate jupyter: Data Science libraries jupyter and notebook are not installed in interpreter Python 3.7.6 64-bit ('3.7.6': pyenv).",
      "at b.startServer (/Users/tatsunokaname/.vscode/extensions/ms-python.python-2020.6.89148/out/client/extension.js:48:288041)",
      "at b.createServer (/Users/tatsunokaname/.vscode/extensions/ms-python.python-2020.6.89148/out/client/extension.js:48:287483)",
      "at connect (/Users/tatsunokaname/.vscode/extensions/ms-python.python-2020.6.89148/out/client/extension.js:48:411428)",
      "at P.ensureConnectionAndNotebookImpl (/Users/tatsunokaname/.vscode/extensions/ms-python.python-2020.6.89148/out/client/extension.js:24:434785)",
      "at P.ensureConnectionAndNotebook (/Users/tatsunokaname/.vscode/extensions/ms-python.python-2020.6.89148/out/client/extension.js:24:434463)",
      "at P.clearResult (/Users/tatsunokaname/.vscode/extensions/ms-python.python-2020.6.89148/out/client/extension.js:24:430389)",
      "at P.reexecuteCell (/Users/tatsunokaname/.vscode/extensions/ms-python.python-2020.6.89148/out/client/extension.js:24:416858)",
      "at P.reexecuteCells (/Users/tatsunokaname/.vscode/extensions/ms-python.python-2020.6.89148/out/client/extension.js:24:413661)"
     ]
    }
   ],
   "source": [
    "import requests"
   ]
  },
  {
   "cell_type": "code",
   "execution_count": 2,
   "metadata": {},
   "outputs": [],
   "source": [
    "from bs4 import BeautifulSoup"
   ]
  },
  {
   "cell_type": "code",
   "execution_count": 3,
   "metadata": {},
   "outputs": [],
   "source": [
    "page_url = \"https://search.yahoo.co.jp/image/search?p=%E7%8A%AC&ei=UTF-8&ts=1846&aq=-1&ai=esUZ5HKdRWyiizgQYm8ohA&fr=top_ga1_sa\""
   ]
  },
  {
   "cell_type": "code",
   "execution_count": 4,
   "metadata": {},
   "outputs": [],
   "source": [
    "r = requests.get(page_url)"
   ]
  },
  {
   "cell_type": "code",
   "execution_count": 5,
   "metadata": {},
   "outputs": [],
   "source": [
    "soup = BeautifulSoup(r.text, features=\"html.parser\")"
   ]
  },
  {
   "cell_type": "code",
   "execution_count": 9,
   "metadata": {},
   "outputs": [],
   "source": [
    "img_tags = soup.find_all(\"img\",attrs={\"alt\":\"「犬」の画像検索結果\"})"
   ]
  },
  {
   "cell_type": "code",
   "execution_count": 7,
   "metadata": {},
   "outputs": [],
   "source": [
    "img_urls = []"
   ]
  },
  {
   "cell_type": "code",
   "execution_count": 10,
   "metadata": {},
   "outputs": [
    {
     "name": "stdout",
     "output_type": "stream",
     "text": [
      "https://msp.c.yimg.jp/yjimage?q=QmSyX7sXyLH8Lsz6.AgEkYrDTFTj3q.eiGv9IbNtCx4DZqmjGCDKrTCuT8I3xuuLSoA8LzyAuxybguZpqCOUqezOCodZzBgCslp2KB2Gy2fwrXgareqmx_PtkTs8qUuJc3FWSlNDyHrUc_SzrlGE&sig=13ab9tinv&x=300&y=157\n",
      "https://msp.c.yimg.jp/yjimage?q=qXdwnXMXyLEQt_MZHUnHN5FHzPztQyESPVv.LRAd2IXUNkWvp5qxmtZxseqEGxfMWJK7JO_RdchSNqhxR936_tP1Vqbpg.exjjNyC7Zxj3ahSl1clkRoXxa7_OU1zs_z_1YMmSrOsiqDOt1nbtzcNoc-&sig=13c1m9ej3&x=193&y=261\n",
      "https://msp.c.yimg.jp/yjimage?q=kYgiOxMXyLEm3TCT_7OxcK3UcLG5LjTMnt.4Z8hUaHjp7fQSMn.bbOjzllOHq2Tva6I2soX3oIwrATSc9Jh_7NYXl28I9R9yE9.hjbOT67qwetEBDniPojaDH6lgLFy8A4fYgFqI.RzcKX8j6PkSi5Y-&sig=13ct8g518&x=300&y=168\n",
      "https://msp.c.yimg.jp/yjimage?q=uoUpd0EXyLGkT_AKqBdkNYeJdIsCPskHQd0ZXAteVskP2Lgp23ptPdi53b7y3Gt7g5iI02ngvMEBngDvAmPCi.ETQXd3JUFvJh6jff01Q.MGombH7zmD37OH_tLhMUtTyygjnjPkNJhAfrCUNH_pFBo-&sig=13cprgpmt&x=225&y=224\n",
      "https://msp.c.yimg.jp/yjimage?q=g6sYbnMXyLErml2dEq9jGoA2q8Eye2NdFZOGud2ajDxZiBtA1riiQx_hkNgCcVjSLV9Gkpx14vhqktLuM29awcvCyJHNq6nwgIyc6KRijnY3vn8z4.KDwvpdO5htB.jNqXRSMYVfiAcun80rX7Ur&sig=13aj2co6k&x=300&y=168\n",
      "https://msp.c.yimg.jp/yjimage?q=7se.OXQXyLHxwZSHwoi02MSv2rYHi2lLiPRbMOR_o4Z.HWnQx_yiVeeAOMH3mIJm4hzlmKw106jP2hEh9gUsKZK70NeJKWs_lXxy7L_9FD5tLH3Sw8Uursw3byoCqzcEWZLZyXw6dXoQg5FQImBwqwY-&sig=13ci81pao&x=276&y=183\n",
      "https://msp.c.yimg.jp/yjimage?q=f.v88OIXyLEBSScW2ytUE3HYEPy05gD1kCPevSiuv97zaLYBkTpJ9prUwVYCtI644MC3Tk4hmNU.XPuxjZlv3PFLWGr4O4terBMUsAOL1nCGShDJLe7UAcFCdHcrw7rgvQ_vzCZEm8BRCmxpk6ui&sig=13a1hmf1n&x=275&y=183\n",
      "https://msp.c.yimg.jp/yjimage?q=7NFOHCsXyLGXHLKpCx7VRL.76HX3srT874.7wf1g2wfrd9lltsnkH1Uox9ceK9LYmvAOC1omzJfSbxZjxOc63wKMOnnBwWaPhskvyQGax3DI6f53Lsd3ThITQiTbM2.jyVdb.sOfcgcYquR.1BtC5sM-&sig=13clduiu0&x=275&y=183\n",
      "https://msp.c.yimg.jp/yjimage?q=YOT_TKwXyLGiaafHQxqZ5CaW7rRUyXRIK5dWfhuM6fmd56K4R9ghuPf_o1u94Wlbckgau8YbU4pu2ouvRdOZltxzfZ2C9mtrWZCMc9AkvnuOK4tzUdLBMDHON7NPOhRGLcN..01th6rwJp82IvYd&sig=13atgsvc4&x=300&y=168\n",
      "https://msp.c.yimg.jp/yjimage?q=RsxjhEoXyLGo_YmUjaHk3.JQrBZ_UB7Mo5KSd_J__n6KVuz0Bz1bujyec2LEf5B7m_.aaoKZdWVzAcjv8DjbZpW9Y8e.g1bvsyz9N_5q8TEE0ee9L012tegpTJhWFtSBY9lFUlm3AyHA40gGvxS1&sig=13a7ffej8&x=189&y=267\n",
      "https://msp.c.yimg.jp/yjimage?q=a3IpB2IXyLFq.zH8YCEkOxfdz6TzqQFB9szrLc1UF4GTG10JmyAyFxWwOp.SQm7_x8fVckLm1Nzqt47SdIgOVIW7ky6Oyex7hCmrje_ZAFN4d6cB0oNiKm6PTxF8aPPbh3HRHfkI.Nu65hcfAf1U&sig=13ahijdo9&x=275&y=183\n",
      "https://msp.c.yimg.jp/yjimage?q=bLvZIfgXyLF3k6n_aC2PK9OI60.c0zHzKFVbM.9uyP9MJFxSx1X1ZvJDbGxjNx6sG33clrVvLILihL73CpsyZT8osI012ZjepT6zOZBPuy6aPeDOFIp_6OWgLoblGuh6u0mMVwS5wR5it99FWZEn&sig=13avpofef&x=284&y=177\n",
      "https://msp.c.yimg.jp/yjimage?q=GHRDXUUXyLEgl0WQLrVw0YN8GaXunYyqamN9iNj.DZuiW8nDlik8eA7cGFHR6rLaCCGfnceFWl33xPSSPE1CC53oex.QiSedhnq6s8R42ZAFMY5txu1vvBwb09oWSFCPXGK_6ixrSgGrJYDh8Es.fL8-&sig=13cc6d7t2&x=252&y=200\n",
      "https://msp.c.yimg.jp/yjimage?q=5BB576EXyLG9lRizGh0vpEXslBkdgidN6aqKCVi1U.dR.49TKv.nDHExKYdxgDLY8ZPL1ojlnD3tpMNq5aoNWwgAwoX_W5hIilk69K8gju5qML10b6Stvbln.2Hp3.LbCajTRk5.Dy8i.qYWrQQj&sig=13aadg87m&x=224&y=224\n",
      "https://msp.c.yimg.jp/yjimage?q=fxZ.PGkXyLFbZZsGAHO6wftaCYd2u72BKhXGwqwxnTVT54OABMos2sFcvdAty4hmgnZUyeXI67Ou05SfG8gFkG4SvHadmL8q5Y_iF8282oboi_mTPOnB0Ws6Gl73k5aRUbC1RH8VhzjgDcSMV_TG&sig=13aamkqv7&x=275&y=183\n",
      "https://msp.c.yimg.jp/yjimage?q=ajkx5RQXyLGxHUvox1q7Zw0pz0zw8Xvd5zb.M9HdNUgv_V3kvvMprKOY6jc728_QlFbP3SFSCvwESau8o.2Bx94WSUB36yHHLkEhb13BWVmijxOlsDllvNm3acuDihDzVMgySMrEGezJTWn8DA5G&sig=13an3plbr&x=275&y=183\n",
      "https://msp.c.yimg.jp/yjimage?q=RAVu80YXyLFOAaE8P_tCEgEoUOLmn5bkre_zAZB5q9Jnz5XKIO3EaegrmvGgpU8AYa46ToPERQ1lvK888mub9gcJVRjjFZsvWoMPYPXLrAXlmXnPr6tCGpXwqBA8GtSiJXQYXqVToI76ytXnbR34NBY-&sig=13cl6inb9&x=275&y=183\n",
      "https://msp.c.yimg.jp/yjimage?q=dNu7jGAXyLE7QbQmwfJB4Y.ST7sS1xkHQJee6Q0PFUkZaKbApeVRNXE4I84nyUWKta7bkHmFL9NIxmW_IVtWJxV_3dXNXKcrsQeaNLxzwKN8aIxG3w59ESANoukXCWM9w4DAyTAfvM3qbv6MafyEdEc-&sig=13c2b2ig0&x=284&y=177\n",
      "https://msp.c.yimg.jp/yjimage?q=Jfx_F2IXyLEUqk.c.vZb8K4OIdwC2SnYvZuf.yJXAMVKr3uLuYh7ugcQHM46mD96cGaKJ.yUOpiL9m1pLIOcAwm8K2JhwxSHn8ap4.POLOzM0AEDQGOztsNGbQL29qKmhzl3Zba3SVK2XGg659UBvOo-&sig=13ct68jer&x=277&y=182\n",
      "https://msp.c.yimg.jp/yjimage?q=ml_Jis4XyLEDFjrbIIoBjlpszFXJe16REoTki6ozUT7Uc8cXyoRPiworI3itJ7gVIy.Lx4RGrTjUhNiwd9n.Bn847K1agYHLyAOK8xB4jLWCTq1axk1wqcLSFCEo8SgJ3dDLf8674BUnOsxBoqBTNPo-&sig=13c06vp4n&x=269&y=187\n"
     ]
    }
   ],
   "source": [
    "for img_tag in img_tags:\n",
    "    url = img_tag.get(\"src\")\n",
    "    \n",
    "    img_urls.append(url)\n",
    "    print(url)"
   ]
  },
  {
   "cell_type": "code",
   "execution_count": 11,
   "metadata": {},
   "outputs": [],
   "source": [
    "def download_image(url,file_path):\n",
    "    r = requests.get(url, stream=True)\n",
    "    \n",
    "    if r.status_code == 200:\n",
    "        with open(file_path,\"wb\") as f:\n",
    "            f.write(r.content)"
   ]
  },
  {
   "cell_type": "code",
   "execution_count": 12,
   "metadata": {},
   "outputs": [
    {
     "name": "stdout",
     "output_type": "stream",
     "text": [
      "dog-scraiping.ipynb\n"
     ]
    }
   ],
   "source": [
    "!ls"
   ]
  },
  {
   "cell_type": "code",
   "execution_count": 13,
   "metadata": {},
   "outputs": [],
   "source": [
    "!mkdir images"
   ]
  },
  {
   "cell_type": "code",
   "execution_count": 14,
   "metadata": {},
   "outputs": [
    {
     "name": "stdout",
     "output_type": "stream",
     "text": [
      "dog-scraiping.ipynb  images\n"
     ]
    }
   ],
   "source": [
    "!ls"
   ]
  },
  {
   "cell_type": "code",
   "execution_count": 17,
   "metadata": {},
   "outputs": [],
   "source": [
    "download_image(url=img_urls[0], file_path=\"images/1.jpg\")"
   ]
  },
  {
   "cell_type": "code",
   "execution_count": 18,
   "metadata": {},
   "outputs": [
    {
     "name": "stdout",
     "output_type": "stream",
     "text": [
      "dog-scraiping.ipynb  images\n"
     ]
    }
   ],
   "source": [
    "!ls"
   ]
  },
  {
   "cell_type": "code",
   "execution_count": 19,
   "metadata": {},
   "outputs": [
    {
     "name": "stdout",
     "output_type": "stream",
     "text": [
      "1.jpg\n"
     ]
    }
   ],
   "source": [
    "!ls images"
   ]
  },
  {
   "cell_type": "code",
   "execution_count": null,
   "metadata": {},
   "outputs": [
    {
     "output_type": "error",
     "ename": "Error",
     "evalue": "Jupyter cannot be started. Error attempting to locate jupyter: Data Science libraries jupyter and notebook are not installed in interpreter Python 3.7.6 64-bit ('3.7.6': pyenv).",
     "traceback": [
      "Error: Jupyter cannot be started. Error attempting to locate jupyter: Data Science libraries jupyter and notebook are not installed in interpreter Python 3.7.6 64-bit ('3.7.6': pyenv).",
      "at b.startServer (/Users/tatsunokaname/.vscode/extensions/ms-python.python-2020.6.89148/out/client/extension.js:48:288041)",
      "at runMicrotasks (<anonymous>)",
      "at processTicksAndRejections (internal/process/task_queues.js:85:5)",
      "at b.createServer (/Users/tatsunokaname/.vscode/extensions/ms-python.python-2020.6.89148/out/client/extension.js:48:287483)",
      "at connect (/Users/tatsunokaname/.vscode/extensions/ms-python.python-2020.6.89148/out/client/extension.js:48:411428)",
      "at P.ensureConnectionAndNotebookImpl (/Users/tatsunokaname/.vscode/extensions/ms-python.python-2020.6.89148/out/client/extension.js:24:434785)",
      "at P.ensureConnectionAndNotebook (/Users/tatsunokaname/.vscode/extensions/ms-python.python-2020.6.89148/out/client/extension.js:24:434463)",
      "at P.clearResult (/Users/tatsunokaname/.vscode/extensions/ms-python.python-2020.6.89148/out/client/extension.js:24:430389)",
      "at P.reexecuteCell (/Users/tatsunokaname/.vscode/extensions/ms-python.python-2020.6.89148/out/client/extension.js:24:416858)",
      "at P.reexecuteCells (/Users/tatsunokaname/.vscode/extensions/ms-python.python-2020.6.89148/out/client/extension.js:24:413661)"
     ]
    }
   ],
   "source": [
    "!git init"
   ]
  },
  {
   "cell_type": "code",
   "execution_count": null,
   "metadata": {},
   "outputs": [],
   "source": []
  }
 ],
 "metadata": {
  "kernelspec": {
   "display_name": "Python 3",
   "language": "python",
   "name": "python3"
  },
  "language_info": {
   "codemirror_mode": {
    "name": "ipython",
    "version": 3
   },
   "file_extension": ".py",
   "mimetype": "text/x-python",
   "name": "python",
   "nbconvert_exporter": "python",
   "pygments_lexer": "ipython3",
   "version": "3.7.4"
  }
 },
 "nbformat": 4,
 "nbformat_minor": 4
}